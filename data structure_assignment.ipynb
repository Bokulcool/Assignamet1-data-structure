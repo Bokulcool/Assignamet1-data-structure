{
  "metadata": {
    "kernelspec": {
      "name": "python",
      "display_name": "Python (Pyodide)",
      "language": "python"
    },
    "language_info": {
      "codemirror_mode": {
        "name": "python",
        "version": 3
      },
      "file_extension": ".py",
      "mimetype": "text/x-python",
      "name": "python",
      "nbconvert_exporter": "python",
      "pygments_lexer": "ipython3",
      "version": "3.8"
    }
  },
  "nbformat_minor": 5,
  "nbformat": 4,
  "cells": [
    {
      "id": "8b5862b2-32d1-45a1-bedf-a8d7494946a3",
      "cell_type": "code",
      "source": "#1.What are data structures and why are they important?\n    \"\"\"\n    Data structures are a way of organizing and storing data so that they can be accessed and worked with efficiently. \n    They define the relationship between the data, and the operations that can be performed on the data.\n    Important of Data structures \n    Organize data: Data structures organize data elements logically, making it easier for computers to process. \n    Improve code efficiency: Data structures make code more efficient and easier to understand. \n    Improve performance: Data structures help software and programs perform better by storing and retrieving user data quickly.\n    \"\"\"",
      "metadata": {
        "trusted": true
      },
      "outputs": [],
      "execution_count": 2
    },
    {
      "id": "60129235-0cfd-474b-a39e-40dede85ad69",
      "cell_type": "code",
      "source": "#2 Explain the difference between mutable and immutable data types with examples?\n    \"\"\"\n    Mutable-Data types that can be changed after creation include lists, dictionaries, and sets. \n    For example, you can add, remove, or update the values in a list.\n    Immutable-Data types that cannot be changed after creation include strings and tuples. \n    For example, the words in a printed book cannot be changed once they are printed\n    \"\"\"\n",
      "metadata": {
        "trusted": true
      },
      "outputs": [],
      "execution_count": 2
    },
    {
      "id": "aa1628cf-c9ae-416b-b979-b65a8e9b3987",
      "cell_type": "code",
      "source": "#3.What are the main difference between lists and Tuples in Python ?\n    \"\"\"\n    Ans - The main difference between lists and tuples in Python is that lists are mutable, while tuples are immutable\n    \"\"\"",
      "metadata": {
        "trusted": true
      },
      "outputs": [],
      "execution_count": 2
    },
    {
      "id": "58aee184-102f-4792-8d16-734b5c26aad9",
      "cell_type": "code",
      "source": "#4.Describe how dictionaries store data ?\n    \"\"\"\n    Dictionaries in Python store data using a hash table implementation, which allows for efficient key-value pair \n    storage and quick data retrieval.\n    Dictionaries are used to store data values in key:value pairs.A dictionary is a collection which is ordered,\n    changeable and do not allow duplicates .Dictionaries are written with curly brackets, and have keys and value.\n    \"\"\"",
      "metadata": {
        "trusted": true
      },
      "outputs": [],
      "execution_count": 2
    },
    {
      "id": "baf8fcc0-2e0a-4ff5-bea8-ebc3049d53e8",
      "cell_type": "code",
      "source": "#5.Q5. Why might you use a set instead of a list in Python?\n    \"\"\"\n    In Python, a set and a list are both collections that store multiple items, but they have distinct characteristics and \n    use cases. \n    •Eliminating Duplicates-Sets automatically enforce uniqueness. If you add duplicate items to a set, they are automatically\n    removed.\n    •Set Operations-Sets support mathematical operations like union, intersection, difference, and symmetric difference, \n    which are not directly available for lists\n    \"\"\"",
      "metadata": {
        "trusted": true
      },
      "outputs": [],
      "execution_count": 2
    },
    {
      "id": "1e474076-23e1-4ea8-9d71-b1bcee3963fc",
      "cell_type": "code",
      "source": "#6.What is string in python, and how it is different from a list?\n    \"\"\"\n    A string in Python is a sequence of characters used to represent text. It is one of Python's built-in data types and \n        is enclosed in quotes (single, double, or triple)\n    1.\tData Type- A string is a sequence of characters (text) but A list is a sequence of items, which can be of any \n        data type (e.g., numbers, strings, objects).\n    2.\tImmutability- Strings are immutable, meaning their contents cannot be changed after creation and Lists are mutable, \n        meaning you can modify their elements (e.g., add, remove, or change items).\n    \"\"\"",
      "metadata": {
        "trusted": true
      },
      "outputs": [],
      "execution_count": 2
    },
    {
      "id": "a442fb0f-4ba8-4910-8c04-50fbb4a6d99e",
      "cell_type": "code",
      "source": "#7.How do Tuples ensure data integrity in python ?\n    \"\"\"\n    Tuples ensure data integrity in Python because they are immutable, meaning once a tuple is created, its contents \n    cannot be modified.\n    \"\"\"",
      "metadata": {
        "trusted": true
      },
      "outputs": [],
      "execution_count": 2
    },
    {
      "id": "51a20c50-211f-403b-b899-05178ef6a269",
      "cell_type": "code",
      "source": "#8.What is a hash table , and how does it relate to dictionaries in python ?\n    \"\"\"\n    A hash table is a data structure that provides an efficient way to store and retrieve data using a key-value mapping. \n    It works by applying a hashing function to a key to compute an index, or \"hash,\" which determines where the corresponding\n    value will be stored in an underlying array.\n    In Python, dictionaries are implemented using hash tables. This makes them one of the most efficient and widely used data \n    structures for key-value storage.\n    \"\"\"",
      "metadata": {
        "trusted": true
      },
      "outputs": [],
      "execution_count": 2
    },
    {
      "id": "568a1113-dd19-476f-871d-19b068c5f142",
      "cell_type": "code",
      "source": "#9. Can lists contain different data types in Python ?\n    \"\"\" \n    Yes, lists in Python can contain elements of different data types. This is because Python lists are dynamic and\n    can store references to objects of any type. This flexibility makes them one of Python's most versatile data structures\n    \"\"\"",
      "metadata": {
        "trusted": true
      },
      "outputs": [],
      "execution_count": 2
    },
    {
      "id": "411e348e-571d-4812-b42b-42edf6d2be0a",
      "cell_type": "code",
      "source": "#10. Explain why strings are immutable in Python ?\n    \"\"\"\n    Strings in Python are immutable, which means once a string is created, it cannot be changed. \n    Any operation that seems to modify a string actually creates a new string object\n    \"\"\"",
      "metadata": {
        "trusted": true
      },
      "outputs": [],
      "execution_count": 2
    },
    {
      "id": "c1196292-4fdb-4a0f-a8b8-e546aabf5afd",
      "cell_type": "code",
      "source": "#11.What advantages do dictionaries offer over lists for certain tasks ?\n    \"\"\"\n    Dictionaries offer several advantages over lists for certain tasks, particularly when it comes to key-value mapping,\n    efficient lookups, and organizing data\n    \"\"\"",
      "metadata": {
        "trusted": true
      },
      "outputs": [],
      "execution_count": 2
    },
    {
      "id": "8a03dcb1-420e-4e55-b193-8fecb80a96a5",
      "cell_type": "code",
      "source": "#12.Describe a scenario where using a Tuple would be preferable over a list .\n    \"\"\"\n    A tuple is preferable over a list in scenarios where immutability and data integrity are important. \n    Since tuples cannot be modified after creation, they ensure that the data they contain remains unchanged \n    throughout the program.\n    \"\"\"",
      "metadata": {
        "trusted": true
      },
      "outputs": [],
      "execution_count": 2
    },
    {
      "id": "bc3c2316-be2f-4bc4-8641-33058bad010d",
      "cell_type": "code",
      "source": "#13.How do sets handles duplicate value in Python ?\n    \"\"\"\n    In Python, sets automatically handle duplicate values by ensuring that every element in the set is unique.\n    If you attempt to add a duplicate value to a set, it will be ignored, and the set will only retain one instance \n    of that value.\n    \"\"\"",
      "metadata": {
        "trusted": true
      },
      "outputs": [],
      "execution_count": 2
    },
    {
      "id": "d5532e34-a6c2-411c-a560-558e9077e234",
      "cell_type": "code",
      "source": "#14. How does the “in” keyword work differently for lists and dictionaries?\n    \"\"\"\n    When we use the “in” keyword with a list, it checks if an element is present in the list. The operation is performed\n    by checking each item in the list to see if it matches the specified element.\n    \"\"\"",
      "metadata": {
        "trusted": true
      },
      "outputs": [],
      "execution_count": 2
    },
    {
      "id": "111fd5e7-518b-4c69-a588-6c16d563c78b",
      "cell_type": "code",
      "source": "#15.Can you modify the elements of a tuple ? Explain why or why not ?\n    \"\"\"\n    No, you cannot modify the elements of a tuple in Python. Tuples are immutable, meaning that once a tuple is created,\n    its contents cannot be changed, added to, or removed. This immutability is a core characteristic of tuples and is one \n    of the reasons they are useful in specific scenarios.\n    \"\"\"",
      "metadata": {
        "trusted": true
      },
      "outputs": [],
      "execution_count": 2
    },
    {
      "id": "0254a12c-fc4c-4c57-b1e0-7a05682ca020",
      "cell_type": "code",
      "source": "#16.What is nested dictionary , and give an example of its use cases ?\n    \"\"\"\n    A nested dictionary in Python refers to a dictionary where the value of one or more keys is another dictionary. \n    This allows you to represent hierarchical data, where each dictionary can contain more dictionaries as its values, \n    creating a multi-level structure.\n    \"\"\"",
      "metadata": {
        "trusted": true
      },
      "outputs": [],
      "execution_count": 2
    },
    {
      "id": "f1ff24b6-fc3b-4807-87b6-7dd6672ca527",
      "cell_type": "code",
      "source": "#17.Describe the time complexity of accessing elements in a Dictionary?\n    \"\"\"\n    The time complexity of accessing elements in a dictionary in Python is O(1) on average. \n    This means that, in most cases, it takes constant time to access an element in a dictionary, \n    regardless of the number of items in the dictionary\n    \"\"\"",
      "metadata": {
        "trusted": true
      },
      "outputs": [],
      "execution_count": 2
    },
    {
      "id": "89230424-a128-4a19-b3aa-aec9771be7a4",
      "cell_type": "code",
      "source": "#18.. In  what situation are lists preferred over dictionaries ?\n    \"\"\"\n    While dictionaries offer fast lookups and are ideal for key-value pairs, lists are preferred in certain situations\n    where the data structure characteristics of a list provide better functionality or performance.\n    \"\"\"",
      "metadata": {
        "trusted": true
      },
      "outputs": [],
      "execution_count": 2
    },
    {
      "id": "afcb927e-b7fe-46d9-a25b-a127bfc8aa69",
      "cell_type": "code",
      "source": "#19.Why are dictionaries considered unordered, and how does that affect data retrieval? \n    \"\"\"\n    In Python, dictionaries were historically considered unordered because they do not maintain the order of elements\n    in earlier versions of Python.\n    \"\"\"",
      "metadata": {
        "trusted": true
      },
      "outputs": [],
      "execution_count": 2
    },
    {
      "id": "9e0c7e79-161c-45dc-b6ba-d348ac367097",
      "cell_type": "code",
      "source": "#20.Explain the difference Between a list and a dictionary in terms data retrieval ? \n    \"\"\"\n    The difference between a list and a dictionary in terms of data retrieval primarily centers \n    around how data is stored and accessed\n        1.Data Structure and Access Method:\n        •List: \n            oA list is an ordered collection of elements, indexed by their position .\n            oAccess: You access elements in a list using their index\n    •Dictionary:\n        •A dictionary is an unordered collection of key-value pairs. Each key must be unique, and each key maps to a value.\n        •Access: You access elements in a dictionary using the key (the unique identifier associated with each value).\n    2.Duplicates:\n        •List:\n            oAllows duplicates: A list can store multiple instances of the same element.\n        •Dictionary:\n        •No duplicate keys: Each key in a dictionary must be unique. However, values can be duplicated.\n    \"\"\"",
      "metadata": {
        "trusted": true
      },
      "outputs": [],
      "execution_count": 2
    },
    {
      "id": "88dbaa56-c2fb-471f-97cb-5fdf82a663b2",
      "cell_type": "code",
      "source": "#1.write a code to create a string with your name and print it?",
      "metadata": {
        "trusted": true
      },
      "outputs": [],
      "execution_count": 2
    },
    {
      "id": "f45bc794-d788-4792-aff8-6d907aa722bf",
      "cell_type": "code",
      "source": "str = \"Emdadul Hoque\"\nprint(str)",
      "metadata": {
        "trusted": true
      },
      "outputs": [
        {
          "name": "stdout",
          "output_type": "stream",
          "text": "Emdadul Hoque\n"
        }
      ],
      "execution_count": 4
    },
    {
      "id": "6179019a-ce90-47bc-b14b-fcd987cf57d8",
      "cell_type": "code",
      "source": "#2. write a code to FIND THE LENGTH OF THE STRING \"Hello World\"?",
      "metadata": {
        "trusted": true
      },
      "outputs": [],
      "execution_count": 5
    },
    {
      "id": "1ff7cd86-c8fa-429b-a41c-e530c9de1b52",
      "cell_type": "code",
      "source": "str = \"Hello World\"\nlen(str)",
      "metadata": {
        "trusted": true
      },
      "outputs": [
        {
          "execution_count": 8,
          "output_type": "execute_result",
          "data": {
            "text/plain": "11"
          },
          "metadata": {}
        }
      ],
      "execution_count": 8
    },
    {
      "id": "9582d3a8-e788-4823-a731-26bf70e07f56",
      "cell_type": "code",
      "source": "# 3.write a code to Slice the frist 3 Chracters from the string \"Python Programming\"",
      "metadata": {
        "trusted": true
      },
      "outputs": [],
      "execution_count": 9
    },
    {
      "id": "ca595cb8-a8e3-4f51-aa55-248499273ba2",
      "cell_type": "code",
      "source": "str = \"Python Programming\"\n",
      "metadata": {
        "trusted": true
      },
      "outputs": [],
      "execution_count": 10
    },
    {
      "id": "a7e23391-f83c-42b2-907f-748358a7a96c",
      "cell_type": "code",
      "source": "#4write a code to covert the string \"hello\" to uppercase",
      "metadata": {
        "trusted": true
      },
      "outputs": [],
      "execution_count": 11
    },
    {
      "id": "bcdd8ed9-08f5-4d5e-9855-00c6b6593d0e",
      "cell_type": "code",
      "source": "str = \"hello\"\nstr.upper()",
      "metadata": {
        "trusted": true
      },
      "outputs": [
        {
          "execution_count": 17,
          "output_type": "execute_result",
          "data": {
            "text/plain": "'HELLO'"
          },
          "metadata": {}
        }
      ],
      "execution_count": 17
    },
    {
      "id": "54631152-a7b9-4273-ab38-6745a24d8513",
      "cell_type": "code",
      "source": "#5.write a code to replace the word \"apple\" with \"orange\" in string \" I Like apple\"",
      "metadata": {
        "trusted": true
      },
      "outputs": [],
      "execution_count": 18
    },
    {
      "id": "d33051e3-b096-4503-9121-11624cf747ca",
      "cell_type": "code",
      "source": "text = \"I Like apple\"\nupdated_text = text.replace(\"apple\", \"orange\")\nprint(updated_text)",
      "metadata": {
        "trusted": true
      },
      "outputs": [
        {
          "name": "stdout",
          "output_type": "stream",
          "text": "I Like orange\n"
        }
      ],
      "execution_count": 3
    },
    {
      "id": "f5436ed0-1188-4a84-85e3-81a2d17ceb93",
      "cell_type": "code",
      "source": "# write a code to create a list with numbers 1 to 5 and print it ?",
      "metadata": {
        "trusted": true
      },
      "outputs": [],
      "execution_count": 26
    },
    {
      "id": "21c94fc6-d1ac-4d95-8c62-ffa23b9b3df3",
      "cell_type": "code",
      "source": "num = [1,2,3,4,5]\nprint (num)",
      "metadata": {
        "trusted": true
      },
      "outputs": [
        {
          "name": "stdout",
          "output_type": "stream",
          "text": "[1, 2, 3, 4, 5]\n"
        }
      ],
      "execution_count": 30
    },
    {
      "id": "213e8dc1-c31b-4979-924d-22b93232ec9b",
      "cell_type": "code",
      "source": "# write a code to appaned  the number 10 to the list [1,2,3,4]",
      "metadata": {
        "trusted": true
      },
      "outputs": [],
      "execution_count": 31
    },
    {
      "id": "f34134a9-a3ff-4d81-9822-b724df3a2f62",
      "cell_type": "code",
      "source": "num = [1,2,3,4]\nnum.append(10)\nprint(num)\n",
      "metadata": {
        "trusted": true
      },
      "outputs": [
        {
          "name": "stdout",
          "output_type": "stream",
          "text": "[1, 2, 3, 4, 10]\n"
        }
      ],
      "execution_count": 34
    },
    {
      "id": "2551e4eb-733b-451f-926c-2d8b13cd3c79",
      "cell_type": "code",
      "source": "# write a code to remove  the number 3 from, the list [1,2,3,4,5]",
      "metadata": {
        "trusted": true
      },
      "outputs": [],
      "execution_count": 35
    },
    {
      "id": "0ff170ea-35d8-4767-83aa-eb51fb38ae82",
      "cell_type": "code",
      "source": "num = [1,2,3,4,5]\nnum.remove(3)\nprint (num)",
      "metadata": {
        "trusted": true
      },
      "outputs": [
        {
          "name": "stdout",
          "output_type": "stream",
          "text": "[1, 2, 4, 5]\n"
        }
      ],
      "execution_count": 36
    },
    {
      "id": "42176812-f51f-4814-9321-2279446afbe2",
      "cell_type": "code",
      "source": "# write a code to accaess the second element in the list['a','b','c','d']",
      "metadata": {
        "trusted": true
      },
      "outputs": [],
      "execution_count": 37
    },
    {
      "id": "68befc4d-1636-428f-96c1-d4e4fa9bf5f8",
      "cell_type": "code",
      "source": "list  = ['a','b','c','d']\nlist[1]",
      "metadata": {
        "trusted": true
      },
      "outputs": [
        {
          "execution_count": 39,
          "output_type": "execute_result",
          "data": {
            "text/plain": "'b'"
          },
          "metadata": {}
        }
      ],
      "execution_count": 39
    },
    {
      "id": "25845f17-4b8d-4b90-a744-cebd82c40a43",
      "cell_type": "code",
      "source": "# write a code to reverse the list[ 10,20,30,40]",
      "metadata": {
        "trusted": true
      },
      "outputs": [],
      "execution_count": 41
    },
    {
      "id": "e4323a3e-e568-4707-a913-47f002243ebe",
      "cell_type": "code",
      "source": "my_list = [10, 20, 30, 40]\nreversed_list = my_list[::-1]\nprint(reversed_list)",
      "metadata": {
        "trusted": true
      },
      "outputs": [
        {
          "name": "stdout",
          "output_type": "stream",
          "text": "[40, 30, 20, 10]\n"
        }
      ],
      "execution_count": 4
    },
    {
      "id": "3e946ed8-74dc-4aad-b81c-7b8c256837d8",
      "cell_type": "code",
      "source": "#write a code to create a tuple with the elements 10,20,30,40 and print it",
      "metadata": {
        "trusted": true
      },
      "outputs": [],
      "execution_count": 42
    },
    {
      "id": "f3ecff61-47e4-45ed-a69a-0e6a3d733c2a",
      "cell_type": "code",
      "source": "num = (10,20,30,40)\nprint(num)",
      "metadata": {
        "trusted": true
      },
      "outputs": [
        {
          "name": "stdout",
          "output_type": "stream",
          "text": "(10, 20, 30, 40)\n"
        }
      ],
      "execution_count": 46
    },
    {
      "id": "9def45be-76d9-4cdc-8bc8-97b8bdb510e1",
      "cell_type": "code",
      "source": "#write a code to access the first element of the tuple ('apple','banana','cherry')",
      "metadata": {
        "trusted": true
      },
      "outputs": [],
      "execution_count": 47
    },
    {
      "id": "2e6b39c9-6bf0-4e75-95bf-83e3bfd73afb",
      "cell_type": "code",
      "source": "fruit = ('apple','banana','cherry')\nfruit[0]",
      "metadata": {
        "trusted": true
      },
      "outputs": [
        {
          "execution_count": 49,
          "output_type": "execute_result",
          "data": {
            "text/plain": "'apple'"
          },
          "metadata": {}
        }
      ],
      "execution_count": 49
    },
    {
      "id": "63b147f7-d80c-4feb-8283-f30086ffaf43",
      "cell_type": "code",
      "source": "#write a code to count how many times the number 2 appears in the tuple (1,2,3,2,4,2)",
      "metadata": {
        "trusted": true
      },
      "outputs": [],
      "execution_count": 51
    },
    {
      "id": "2f2fe1ab-b903-4fc0-97cb-896f125c75a4",
      "cell_type": "code",
      "source": "my_tuple = (1, 2, 3, 2, 4, 2)\ncount_of_2 = my_tuple.count(2)  # Use the count() method to count occurrences\nprint(count_of_2)",
      "metadata": {
        "trusted": true
      },
      "outputs": [
        {
          "name": "stdout",
          "output_type": "stream",
          "text": "3\n"
        }
      ],
      "execution_count": 5
    },
    {
      "id": "ecac7fc4-5ba8-4b28-8da4-b78a97054582",
      "cell_type": "code",
      "source": "#write a code to find the index of the element \"cat\" in the tuple (\"dog\",\"cat\",\"rabbit\")",
      "metadata": {
        "trusted": true
      },
      "outputs": [],
      "execution_count": 53
    },
    {
      "id": "c6979b80-7aae-4d1d-9e2c-863b4a318242",
      "cell_type": "code",
      "source": "my_tuple = (\"dog\", \"cat\", \"rabbit\")\nindex_of_cat = my_tuple.index(\"cat\")  # Use the index() method to find the index\nprint(Index_cat)",
      "metadata": {
        "trusted": true
      },
      "outputs": [
        {
          "name": "stdout",
          "output_type": "stream",
          "text": "1\n"
        }
      ],
      "execution_count": 8
    },
    {
      "id": "3d6f33a9-e24d-42b8-b35d-72ed0dfc5bec",
      "cell_type": "code",
      "source": "#write a code to create a set with element 1,2,3,4,5 and print it",
      "metadata": {
        "trusted": true
      },
      "outputs": [],
      "execution_count": 63
    },
    {
      "id": "c3b081f9-44ea-4888-aac1-83ec5cc9f214",
      "cell_type": "code",
      "source": "num = {1,2,3,4,5}\nprint(num)",
      "metadata": {
        "trusted": true
      },
      "outputs": [
        {
          "name": "stdout",
          "output_type": "stream",
          "text": "{1, 2, 3, 4, 5}\n"
        }
      ],
      "execution_count": 65
    },
    {
      "id": "f687efa3-b3b5-4b11-b188-56637481f943",
      "cell_type": "code",
      "source": "#write a code to check if the element \"banana\" is in the tuple ('apple','orange','banana')",
      "metadata": {
        "trusted": true
      },
      "outputs": [],
      "execution_count": 66
    },
    {
      "id": "33defedc-e700-41d4-b7e1-8f2e189e28bd",
      "cell_type": "code",
      "source": "my_tuple = ('apple', 'orange', 'banana')\nif \"banana\" in my_tuple:\n    print(\"Yes, 'banana' is in the tuple\")\nelse:\n    print(\"No, 'banana' is not in the tuple\")\n",
      "metadata": {
        "trusted": true
      },
      "outputs": [
        {
          "name": "stdout",
          "output_type": "stream",
          "text": "Yes, 'banana' is in the tuple\n"
        }
      ],
      "execution_count": 9
    },
    {
      "id": "0085c0ad-9c2f-4a98-919d-c24f0413c11d",
      "cell_type": "code",
      "source": "#write a code to add the element 6 to the set {1,2,3,4}",
      "metadata": {
        "trusted": true
      },
      "outputs": [],
      "execution_count": 67
    },
    {
      "id": "f1ce462f-2078-4d5f-b841-78ad31850805",
      "cell_type": "code",
      "source": "num = {1,2,3,4}\nnum.add(6)\nprint (num)",
      "metadata": {
        "trusted": true
      },
      "outputs": [
        {
          "name": "stdout",
          "output_type": "stream",
          "text": "{1, 2, 3, 4, 6}\n"
        }
      ],
      "execution_count": 12
    },
    {
      "id": "65480aaa-c41d-4f59-9490-a68d9a7400fe",
      "cell_type": "code",
      "source": "#write a code to create a tuple with the element 10,20,30 and print it",
      "metadata": {
        "trusted": true
      },
      "outputs": [],
      "execution_count": 72
    },
    {
      "id": "41ef64e1-556e-437a-8813-165db30e0604",
      "cell_type": "code",
      "source": "num = (10,20,30)\nprint(num)",
      "metadata": {
        "trusted": true
      },
      "outputs": [
        {
          "name": "stdout",
          "output_type": "stream",
          "text": "(10, 20, 30)\n"
        }
      ],
      "execution_count": 75
    },
    {
      "id": "bd30f874-a34f-416c-99d1-00169009e253",
      "cell_type": "code",
      "source": "#write a code to access the first element in the tuple ('apple','banana','cherry')",
      "metadata": {
        "trusted": true
      },
      "outputs": [],
      "execution_count": 77
    },
    {
      "id": "24f564eb-7188-4975-ae4b-c27ab44c2581",
      "cell_type": "code",
      "source": "fruit =('apple','banana','cherry')\nfruit[0]",
      "metadata": {
        "trusted": true
      },
      "outputs": [
        {
          "execution_count": 78,
          "output_type": "execute_result",
          "data": {
            "text/plain": "'apple'"
          },
          "metadata": {}
        }
      ],
      "execution_count": 78
    },
    {
      "id": "df847ca7-d75c-4e26-bf6f-9bb835ad1c53",
      "cell_type": "code",
      "source": "#20.write a code to count how many times the number 2 appears in the tuple (1,2,3,2,4,2)",
      "metadata": {
        "trusted": true
      },
      "outputs": [],
      "execution_count": 79
    },
    {
      "id": "97ca88fd-4d45-49c3-bfbd-7762990e34f5",
      "cell_type": "code",
      "source": "tuple_count = (1,2,3,2,4,2)\nnum = tuple_count.count(2)\nprint (num)",
      "metadata": {
        "trusted": true,
        "scrolled": true
      },
      "outputs": [
        {
          "name": "stdout",
          "output_type": "stream",
          "text": "3\n"
        }
      ],
      "execution_count": 13
    },
    {
      "id": "38491e21-735e-431a-bb5b-7100acb45c02",
      "cell_type": "code",
      "source": "# 21 write a code to find the index of the element \"cat\" in the tuple ('dog','cat','rabbit')",
      "metadata": {
        "trusted": true
      },
      "outputs": [],
      "execution_count": null
    },
    {
      "id": "5b56ecc8-9382-4339-8174-7676089daf78",
      "cell_type": "code",
      "source": "tuple_index = ('dog','cat','rabbit')\ncount = tuple_index.index(\"cat\")\nprint (count)",
      "metadata": {
        "trusted": true
      },
      "outputs": [
        {
          "name": "stdout",
          "output_type": "stream",
          "text": "1\n"
        }
      ],
      "execution_count": 14
    },
    {
      "id": "af5c4115-95f3-408b-8c1a-e39cb3647767",
      "cell_type": "code",
      "source": "",
      "metadata": {
        "trusted": true
      },
      "outputs": [],
      "execution_count": null
    },
    {
      "id": "1a319cf2-a909-4548-9c96-ebcdc35a490d",
      "cell_type": "code",
      "source": "",
      "metadata": {
        "trusted": true
      },
      "outputs": [],
      "execution_count": null
    }
  ]
}